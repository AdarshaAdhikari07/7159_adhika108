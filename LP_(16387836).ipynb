{
  "nbformat": 4,
  "nbformat_minor": 0,
  "metadata": {
    "colab": {
      "provenance": []
    },
    "kernelspec": {
      "name": "python3",
      "display_name": "Python 3"
    },
    "language_info": {
      "name": "python"
    }
  },
  "cells": [
    {
      "cell_type": "markdown",
      "source": [
        "# Part 1) A linear programming approach for optimizing features in ML models"
      ],
      "metadata": {
        "id": "sUfaVDnL_7SE"
      }
    },
    {
      "cell_type": "markdown",
      "source": [
        "Read the article [A linear programming approach for optimizing features in ML models](https://engineering.fb.com/2021/07/29/data-infrastructure/linear-programming/).\n",
        "\n",
        "Summarise it technically in about **400 words**, ensuring you capture the Mathematical formulation of how Linear Programming is used. (Do not discuss the code.)\n",
        "\n",
        "- Use LaTeX for the mathematical formulae, not images. You also need to expand on the formulae given in the article."
      ],
      "metadata": {
        "id": "YmA6NTcRAlpv"
      }
    },
    {
      "cell_type": "markdown",
      "source": [
        "\n",
        "The article talks about using Integer Linear Programming (ILP), a kind of Linear Programming (LP), as a strong and bendy way to choose features in machine learning. This way seeks to get the best set of features that boosts how well a model works, keeping in mind real-life limits, like how many features we can have or how much they cost. It offers a clear option compared to heuristic methods like recursive feature elimination or regularization techniques like LASSO.\n",
        "\n",
        "The main thing of this way is to turn the feature picking problem into a mathematical optimization problem . This can be acheived through the following expression:"
      ],
      "metadata": {
        "id": "aiYXeHdrnaK4"
      }
    },
    {
      "cell_type": "markdown",
      "source": [
        "**Mathematical Formulation**\n",
        "\n",
        "\n",
        "\n",
        "**1. Decision  Variable**\n",
        "\n",
        "\n",
        "\n",
        "For finding out the every possible feature in the dataset , a binary decision variable , xi is constructed\n",
        "\n",
        "\n",
        "\n",
        "\n",
        "\n",
        "![image.png](data:image/png;base64,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)\n",
        "\n",
        "\n",
        "The optimization problem is based on these variables\n",
        "\n",
        "\n",
        "\n"
      ],
      "metadata": {
        "id": "dcfzY1lKubbK"
      }
    },
    {
      "cell_type": "markdown",
      "source": [
        "**2. Objective Function**\n",
        "\n",
        "\n",
        "Maximizing a linear proxy for model performance is the aim . Usually, to obtained this, each feature is given an importance source , ci. Simpler models (like Random Forest feature importance), statistical tests (like F-scores), or information theory metrics (like mutual information) can all be used to calculate this score. The objective function is then used to maximize the total of the chosen features importance scores:\n",
        "\n",
        "\n",
        "\n",
        "![image.png](data:image/png;base64,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)\n",
        "\n",
        "\n",
        "In this case, n is the total number of features that are accessible.\n"
      ],
      "metadata": {
        "id": "kiM_UE9Ov_Sg"
      }
    },
    {
      "cell_type": "markdown",
      "source": [
        "**3. Constraints**\n",
        "\n",
        "The LP approach's primary benefit is its capacity to manage a wide range of intricate constraints in a linear format.\n",
        "\n",
        "**Maximum Number of Features:**\n",
        "\n",
        "\n",
        "\n",
        "\n",
        "\n",
        "\n",
        "\n",
        "\n",
        " To manage model complexity and avoid overfitting, it is common practice to restrict the total number of features that are chosen to a value K.\n",
        "\n",
        " ![image.png](data:image/png;base64,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)\n",
        "\n",
        "**Cost or Resource Constraint:**\n",
        "\n",
        " A budget B can set a limit on the overall cost if each feature has a corresponding cost (for example, for data acquisition or computation).\n",
        "\n",
        "\n",
        " ![image.png](data:image/png;base64,iVBORw0KGgoAAAANSUhEUgAAAH4AAAA+CAYAAADte6/kAAAHxElEQVR4Ae2cV6gsRRCG/xcxg/qiYsCECbMPKogZs4KKOScwYELMGXPOGBBzxoCKEXNCRRQTmFAMIAoqihEfdD+surdoZmZnZ/ue3bO3C4ae6VDd/VeHqurelQoVBAoCBYEmBO6X9K+knSWtJuk4SY9J2r+pUEmb3gisEYSO8J+RtJSkVSye90ITiMCZkk7v9YvwUUlLWB/XL4KfQGlXdOkVE74nXSrpBf8o4WQisKjN7h1C996TdLwt+yG6vE4SAnv3hPyHpHmtU+zr7PfbS7pN0rKT1NnSl5kInFWxrL9lcWfMzFbeJg0BTLj5KzpVNPoKUEpUQaAgUBAoCBQERowADpkuD8ocTyzrcWnoeeYYcV9L9QGBh8wkwyzjeVbSI5LukXSzpGt7Ch1OmnMSISPMyyXdIulh0+yx6b81k8/5xfDCUG95HTEC2N6fJ8LfM0ObVjDHzquB9y+SFsnAu7DIhACeuDgzf5a0cibesDki8GelKDRGCCCQKPznM7dtAUnv2uoyX2behd2QCKT7/WVD8qsq/rWkQ6oSStzoEKja7/HP5yS2lXKalw/RtXus3GpqCvtu3el+/5Wk5fK1c8o4LSbpQ0lvZ6wRC4btkFPK3LSRpIs6MHWT2m9H0ec4AEj3dpOncQCk+/3dHRo06iJ0ECFhauYiDqTguXAuhpIQOCsgfIcxd11mhFXkA+P1qsQYB2A0xp/DY+I0eQfUnLR8Rma07TXDt05Yg1THTEdW69QU8oFBnkbiLt0PQfA/9mbP6o0lSmIbBHYNfpPT2hRokWfzIKe67D7jb6jLEOPRvn3GE74kaSpMsXkkrRQb0vDOpZD0WJileMmGMiSht6wX8lDnmjXHzmTbKuTt8nqypN8kfd/zbh7UhUFDmZNMTs/V5NkwyDHFqqaIdEcohPBvrc2ZJ+Hi3rXt33tL1pMV2j/gf9mrxpdGNFpWJfwDTteYUsfSx62glJYxHp9J4mEmQPB4WhKexmMtjmA76z/u6Q/6KUehnL+ebeVflLSJR2YOH7A6Tkn4zml6w3eSrrAr8UmW+s+lJX2SCN+Bry/VLQVz0vcggOY97tP4FYjbwNhzv59vL4OH0E3F6yrKU4zLotwRdGIg3SfpyCBk58Hq9qe1YR/j17bv3EimXU9IyqkbeLtjSB+oi3bH52/T6FvP8siUd8D/1Zg70FunmTJ840A6z/gw2NAr4o0fNFIXsld3jOXjm1ViR0tgNr/hmSw8qjfrXk7i4MfqADHT+XbhEt77f5LutDTuF7YhhO1mFGFn8PtUxsR0maRZMTuvsi2GSdGJDggVUFFfs6BDLT670UypA7CdFrc4luJIG1s+9mwv776Ic2NG+wUQq4QTZajnJotAX3AeRPHO1gB9Yw+6wCC0oJ1wUg+zP/cA2MX6UOevWMjSqX+tQRoe87pmCJNW2mEsPMA7exV1xFPC/SzOVwRnxyw90D8sZG+n/KZJfPp5qOVLy6f5UALhd2WaMOA3sw8+DACsphyE0weeVzcwY/knD/paJ+KoFQb8fGrQkT9Ihd5QRqsTyy51b+kRFn6UKFyUYYv4OMlX9elKUT/PJIOcujvPmKRy11UYAHGFSbK1+nSsdmvIzR0J2t/JQcTpGubcO+HnUw11DZWEps4eH8k7GOPcfo1xvjJ4J1kC3U0JyPDZXRIu3Z8SiwA+fnvIeaZbDDye8sQhw71MIFx6WbcDr7kk/WU8/CdtKRvHA8Gvmia2+WaZZybVeYba8Gibh/0UTTVSleAxr7BhI3k+BMZSz+UPJwYBABwt6QJ7J7/Tij09gBUkEtsNZXzbebNnQh4WM2R436nnJ4AvS7EP0jZsMW9pGytHFaHQucYfdZuqvJVx7B9U0LScVBbsGMmsoz43uxh0HucaN3rAgxX8XTN3UND6nRA8gnY/PksuwDCLmRm8pwcwKGO0BeDQHeqUKK9jmLDtsg8GPD7IwcfjPPzC2k17OzmfTjUGuUd5P4DQVt2W93sBe/Subl1vHa470we8S2xbSj1kaPvnm9NnW2sAyhEgYUHUmWrw+TSYmv3aPqvTXbhNIbMdB1cnOtiEnnqEOjErhaYHAox+lrgbp0dzx66VOJ7wkQ/6jLQjKHAcJuAJy038kUJUqHLzHxd+aNDsvYM+I2s/ysz7kupOeoZtGJ439upCY4TA3Oac4SAjN3FUyulXaqblrqfw64AAdiT2ZO4fPbB1+LUlDiwKjRECmEB45XBiDEtcgsCswnvGz6pQEv3BTCs0Jgjwf3UcTfIjChSvuudxuwmK/ciFidtt+fb8uFn/CUJ2YXuILVxoTBDYt0FQLrBc4Qlj0ufSDEn8r02Op8mL5GkF8IJAQaAgUBAoCBQERosAe3IOe5ujztnBPTtaaWWsHaFz/t2VEDb/gOlmXlc+pdw0RaAIfhoJjitJXAnOQUXwOVCcAh6cnGHT47Bx4poSP56oe7iS5I+X8bAI3pEY4xCF7kS7TInguawI4XP3m6f9QisyIyiCnwHF+L4wszczX/xdmZpZBJ8JyFnNhp8QcV6+TaioLPUBjEl95e44P6nlor7v82Wpn1Rph35xJYqfC20RBB+SW78yWHh8qffv1gxKxqlHgP3dZ3vX2uMFQ36Jyr34YRxCXdtRyhUECgIFgYJAQWB2ROA/RMYx7xASOiEAAAAASUVORK5CYII=)\n",
        "\n",
        "\n",
        "   **Feature Dependencies:**\n",
        "\n",
        " Logical connections between features can be modeled by the framework.\n",
        "\n",
        "**Prerequisite:**\n",
        "\n",
        "The constraint is as follows if choosing feature j necessitates choosing feature k as well (for example, if k is a raw variable and j is derived from it):\n",
        "\n",
        "![image.png](data:image/png;base64,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)\n",
        "\n",
        "\n",
        "\n",
        "\n",
        "\n",
        "\n",
        "\n",
        "\n",
        "\n",
        "\n",
        "\n",
        "\n",
        "\n",
        "\n"
      ],
      "metadata": {
        "id": "CFWggwl2zYN9"
      }
    },
    {
      "cell_type": "markdown",
      "source": [
        "**Mutual Exclusion:**\n",
        "\n",
        "\n",
        " The constraint is as follows if features j and k are perfectly collinear, meaning they cannot be chosen together:\n",
        "\n",
        "![image.png](data:image/png;base64,iVBORw0KGgoAAAANSUhEUgAAAHIAAAAWCAYAAAAcuMgxAAAESElEQVRoBe2YTcgVZRTHfytRDDeaFCm6kAJBEYKsdJH4RREigaFmZQRuhFooIrgwURAFlbKgKLUSTNspVBBYIhG1UiIiMWmRQYoGurGd3n/vOXLep5nnzp2Z6+XNe+DeeT7P1/+Zc848MKShB/4nHlgFHAC+A34FnhkDds3ut46rgevAkX4LapH/W8D2zu828GeLfHOsZprM3JqiOR0y+Vb69pU+MIesryllUG/DdNP725p6V922HPgF+Bp4vuIm+eRn00+HTb++AyndHq6oYNEyKTkIUiSR7E19Ev4y8JfJ2NCjDAHpoVQH7Z4B2aOeo5YPCsiD5qBHR2nTvLPF+ApEgdmUKgM5AZgDPBQkTgJUEHSjJcAj3RZ1mW8DyPF2gqcEWWrnbDhfkh+XBR5Vm9OA/QbgD8DiqhsrrHMgP8qtfQK4BfwI3AA+M4f803l+3jlRl4C5JQwEwLumfM5hJdvvDjcF8lkrto6aLipknrS2bPgJmH9X2khjqs2fCuPuMOWy3WE813y8k1a8RpCsp3KLa865Xu/n9l8IpbfynJyqxLwR2GF9MUopOl/zSsx1KfLqlYfeuivAQtuovCJ+XwLKS26DwI30kq3zcR3knYAKk9+BIpvjfrXfMx6H+wSgy3Mgd/lA+nwF2BcGlWDlBJ0wkU6r+iut74+rwFLvADeBa6Hfa7MJkCeBrUGg2+BhyG3QWxtJ5bzL/STYqMpb41UqROU/fYdqvQ5Gv8iBfLNMwDfJhJ/SdTb+IDArWaNuNNIdJ2fkSCdf++JTbf3kCG8XPXN8oy5a5za8bpvKbLgM/A2c7YTeF4KABzqfCU+HfpXmIuNT9QBU4RnXOJBr42CuLTCkzIzcomRur+15MRlPu0UAObApkD7ue1Jeub7b4KV70VoPv2eA30z/Ni4zFnTSlHjKnreLBNcccyDTQ1vIbhzwhxUNhQtKBr83xSeWzFcZluFtkNtwrguzNxJnezhVsdIGPWY5Wna90wLDrkDKACVsFTkrzDiVzpEuhmIojqutklvKSlATagJkkQ26Q42U2nDM9FZacIp2qEpvapP4Tga+MFmHGlyaZIFU7pDy+s0DTls7OkFFRO6UrrE9VUt1d1r6rAtkmQ0KyU5FNqhSl0z/5vQ877bKcducQUtPv3yoE8KzQOoSQMYo7ur+T21t+NgUlzO6OViVodZUTsIlTukmp2TbvxcRqph7sUEXHZKnz5NIAldAOqhxrs12jAI5vlrnNYIDqafGZO8oPq+ZQfoGVFxXqFRMl6H+CZIT5pe6RZVtbl86VxdI8XkVOGHfsVVsUKEjh6QXGM91bqg+BPa0cFOV2lenH4F0QB3E/wBZR4Dv8bCWnmyf7+XZBMhe5AzXmgd0knWfKNpsb27TsCpeo8LECPsx8a+3uM5voMbptdabc9zCktoC834mhbg6v4H7TLnoK+DT5Ipu4IoNFRh6YEx74A466SKfFNaNGAAAAABJRU5ErkJggg==)\n",
        "\n",
        "The combination of features that is provably optimal for the specified linear objective and constraints can be found by solving this ILP problem, offering a potent tool for creating machine learning models that are more effective and understandable.\n",
        "\n"
      ],
      "metadata": {
        "id": "gKdatSC53yjY"
      }
    },
    {
      "cell_type": "code",
      "source": [],
      "metadata": {
        "id": "wflbZX5MzPZX"
      },
      "execution_count": null,
      "outputs": []
    },
    {
      "cell_type": "markdown",
      "source": [
        "A farmer has 500 acres of land to allocate to wheat, corn, and sugar beets.\n",
        "\n",
        "The following table summarises the requirements and constraints:\n",
        "\n",
        "|                          | Unit    | Wheat | Corn | Sugar Beets |\n",
        "|--------------------------|---------|------:|-----:|:-----------:|\n",
        "| Yield                    | T/acre  | 2.5   | 3    | 20          |\n",
        "| Demand (Need for feed)   | T       | 200   | 240  |             |\n",
        "| Planting cost            | £/acre  | 150   | 230  | 260         |\n",
        "| Selling price            | £/T     | 170   | 150  | 36 if produce ≤ 6000 T |\n",
        "|                          | £/T     |       |      | 10 if produce > 6000 T |\n",
        "| Backup (Purchase price)  | £/T     | 238   | 210  |             |"
      ],
      "metadata": {
        "id": "hyC3cSwpHn1Q"
      }
    },
    {
      "cell_type": "markdown",
      "source": [
        "|Variable name| Description |\n",
        "|:------------|:-----|\n",
        "|$x_1$| Acres of land used for wheat |\n",
        "|$x_2$| Acres of land used for corn |\n",
        "|$x_3$| Acres of land used for sugar beets |\n",
        "|$p_1$| Tons of crop wheat sold |\n",
        "|$p_2$| Tons of crop corn sold |\n",
        "|$p_3$| Tons of crop sugar beets sold at £36 |\n",
        "|$p_4$| Tons of crop sugar beets sold at £10 |\n",
        "|$y_1$| Tons of wheat purchased |\n",
        "|$y_2$| Tons of corn purchased |"
      ],
      "metadata": {
        "id": "fYwfecm3HqBe"
      }
    },
    {
      "cell_type": "markdown",
      "source": [
        "\n",
        "Profit formula:\n",
        "\n",
        "$$\n",
        ".........................\n",
        "$$"
      ],
      "metadata": {
        "id": "2gazwBz0n8l6"
      }
    },
    {
      "cell_type": "markdown",
      "source": [
        "Constraints:\n",
        "\n",
        "$$\n",
        "\\begin{alignat*}{4}\n",
        "    ......................... &\\leq ...... \\\\\n",
        "    ......................... &\\leq ...... \\\\\n",
        "    ......................... \\\\\n",
        "    ......................... & \\geq 0\n",
        "\\end{alignat*}\n",
        "$$"
      ],
      "metadata": {
        "id": "pcPnpszGoBNB"
      }
    },
    {
      "cell_type": "markdown",
      "source": [
        " x_w= Land in acres for wheat\n",
        "\n",
        " x_c= Land in acres for corn\n",
        "\n",
        " x_sb= Land in acres for sugar beets\n",
        "\n",
        "  y_w= Wheat sold in tons\n",
        "\n",
        "  y_c =Corn sold in tons\n",
        "\n",
        "  y_sb1= Sugar beets sold at £36 in tons\n",
        "\n",
        "  y_sb2 =Sugar beets sold at £10 in tons\n",
        "\n",
        "  b_w= Wheat bought in tons\n",
        "  \n",
        "  b_c= Corn bought, in tons"
      ],
      "metadata": {
        "id": "NLe8prNXHvSr"
      }
    },
    {
      "cell_type": "markdown",
      "source": [
        "**Profit Formula :**\n",
        "\n",
        " The aim is to get the most total profit, which is the money from sales take away the costs of growing and buying crops.\n",
        "\n",
        " Maximize Profit =(170y_\n",
        "w\n",
        "​\n",
        " +150y_\n",
        "c\n",
        "​\n",
        " +36y_\n",
        "sb1\n",
        "​\n",
        " +10y_\n",
        "sb2\n",
        "​\n",
        " )−(150x _\n",
        "w\n",
        "​\n",
        " +230x _\n",
        "c\n",
        "​\n",
        " +260x _\n",
        "sb\n",
        "​\n",
        " +238b _\n",
        "w\n",
        "​\n",
        " +210b _\n",
        "c\n",
        "​\n",
        " )\n",
        "\n",
        "\n",
        "\n"
      ],
      "metadata": {
        "id": "xSQo2XLPoGyu"
      }
    },
    {
      "cell_type": "markdown",
      "source": [
        "**Constraints :**\n",
        "\n",
        "**1. Land Constarint:** The total land used can't be over 500 acres.\n",
        "\n",
        "x _\n",
        "w\n",
        "​\n",
        " +x _\n",
        "c\n",
        "​\n",
        " +x _\n",
        "sb\n",
        "​\n",
        " ≤500\n",
        "\n",
        "\n",
        "\n",
        "\n",
        "\n",
        "**2. Crop Balance Constraints:** For wheat and corn, the amount made plus the amount bought must be the same as the amount sold plus the amount used for feed. Wheat: 2.5x_\n",
        "w\n",
        "​\n",
        " +b _\n",
        "w\n",
        "​\n",
        " =y_\n",
        "w\n",
        "​\n",
        " +200\n",
        "\n",
        "\n",
        "\n",
        "Corn: 3x_\n",
        "c\n",
        "​\n",
        " +b_\n",
        "c\n",
        "​\n",
        " =y _\n",
        "c\n",
        "​\n",
        " +240\n",
        "\n",
        "\n",
        "\n",
        "\n",
        " **3. Sugar Beet Production Constraint**\n",
        "\n",
        "  The total sugar beets sold must match the amount made.\n",
        "\n",
        "  y_\n",
        "sb1\n",
        "​\n",
        " +y _\n",
        "sb2\n",
        "​\n",
        " =20x_\n",
        "sb\n",
        "​\n",
        "\n",
        "\n",
        "\n",
        "**4. Sugar Beet Sales Tier Constraint:**At most, 6000 tons of sugar beets can sell at the high price.\n",
        "\n",
        "y _\n",
        "sb1\n",
        "​\n",
        " ≤6000\n",
        "\n",
        "\n",
        " **5.Non-negativity:**All the numbers we use must not be less than zero.\n",
        "\n",
        "\n",
        "x _\n",
        "w\n",
        "​\n",
        " ,x _\n",
        "c\n",
        "​\n",
        " ,x _\n",
        "sb\n",
        "​\n",
        " ,y _\n",
        "w\n",
        "​\n",
        " ,y _\n",
        "c\n",
        "​\n",
        " ,y _\n",
        "sb1\n",
        "​\n",
        " ,y _\n",
        "sb2\n",
        "​\n",
        " ,b_\n",
        "w\n",
        "​\n",
        " ,b_\n",
        "c\n",
        "​\n",
        "  ≥0\n",
        "\n"
      ],
      "metadata": {
        "id": "2TNzikHJNEyw"
      }
    },
    {
      "cell_type": "markdown",
      "source": [
        "## Solution using PuLP"
      ],
      "metadata": {
        "id": "-VE847sEnt3i"
      }
    },
    {
      "cell_type": "markdown",
      "source": [
        "from pulp import *\n"
      ],
      "metadata": {
        "id": "pBtPYe8WoVUq"
      }
    },
    {
      "cell_type": "markdown",
      "source": [
        "### Optimal solution\n",
        "\n",
        "|Category |Unit|Wheat|Corn|Sugar Beets|\n",
        "|---------|----|-----|----|-----------|\n",
        "|Area     |Acre|     |    |           |\n",
        "|Yield    |T   |     |    |           |\n",
        "|Sales    |T   |     |    |           |\n",
        "|Purchase |T   |     |    |           |\n",
        "\n",
        "Total cost: ..............."
      ],
      "metadata": {
        "id": "hyidoTv4Py56"
      }
    },
    {
      "cell_type": "code",
      "source": [
        "# Installing the PuLP library for linear programming\n",
        "!pip install pulp"
      ],
      "metadata": {
        "colab": {
          "base_uri": "https://localhost:8080/"
        },
        "id": "3Bq77tukonaR",
        "outputId": "f4ede565-961f-48d6-925e-a5eb4e6f20b9"
      },
      "execution_count": null,
      "outputs": [
        {
          "output_type": "stream",
          "name": "stdout",
          "text": [
            "Collecting pulp\n",
            "  Downloading pulp-3.2.2-py3-none-any.whl.metadata (6.9 kB)\n",
            "Downloading pulp-3.2.2-py3-none-any.whl (16.4 MB)\n",
            "\u001b[2K   \u001b[90m━━━━━━━━━━━━━━━━━━━━━━━━━━━━━━━━━━━━━━━━\u001b[0m \u001b[32m16.4/16.4 MB\u001b[0m \u001b[31m22.6 MB/s\u001b[0m eta \u001b[36m0:00:00\u001b[0m\n",
            "\u001b[?25hInstalling collected packages: pulp\n",
            "Successfully installed pulp-3.2.2\n"
          ]
        }
      ]
    },
    {
      "cell_type": "markdown",
      "source": [
        "The  Python code can be used to define and resolve the farmer's problem after installation. The previously given mathematical formulation is directly implemented .\n",
        "\n"
      ],
      "metadata": {
        "id": "hOylEQL9pWSx"
      }
    },
    {
      "cell_type": "code",
      "source": [
        "# Importing the PuLP library\n",
        "from pulp import *\n",
        "\n",
        "# 1. Setupping the Model\n",
        "# Making an LP maximization problem.\n",
        "prob = LpProblem(\"Farmer_Problem\", LpMaximize)\n",
        "\n",
        "# 2. Establishing Decision Variable (Decision)\n",
        "# Planting Acres\n",
        "x_w = LpVariable(\"Acres_Wheat\", 0, None, LpContinuous)\n",
        "x_c = LpVariable(\"Acres_Corn\", 0, None, LpContinuous)\n",
        "x_sb = LpVariable(\"Acres_SugarBeets\", 0, None, LpContinuous)\n",
        "\n",
        "# Tons to sell\n",
        "y_w = LpVariable(\"Sold_Wheat\", 0, None, LpContinuous)\n",
        "y_c = LpVariable(\"Sold_Corn\", 0, None, LpContinuous)\n",
        "y_sb1 = LpVariable(\"Sold_SugarBeets_Tier1\", 0, None, LpContinuous) # High price\n",
        "y_sb2 = LpVariable(\"Sold_SugarBeets_Tier2\", 0, None, LpContinuous) # Low price\n",
        "\n",
        "# Tons to purchase\n",
        "b_w = LpVariable(\"Purchased_Wheat\", 0, None, LpContinuous)\n",
        "b_c = LpVariable(\"Purchased_Corn\", 0, None, LpContinuous)\n",
        "\n",
        "# 3. Defining the Objective Function (Profit)\n",
        "# Sales Revenue-(Purchase+Planting Costs)\n",
        "prob += (170*y_w + 150*y_c + 36*y_sb1 + 10*y_sb2) - \\\n",
        "        (150*x_w + 230*x_c + 260*x_sb + 238*b_w + 210*b_c), \"Total_Profit\"\n",
        "\n",
        "# 4. Defining the Constraints\n",
        "# Land constraint: Total acres must be <= 500 (The total number of acres must not exceed 500.)\n",
        "prob += x_w + x_c + x_sb <= 500, \"Total_Land_Constraint\"\n",
        "\n",
        "# Constraints of balance: (Yield + Purchase) = (Sold + Feed)\n",
        "prob += 2.5*x_w + b_w == y_w + 200, \"Wheat_Balance\"\n",
        "prob += 3*x_c + b_c == y_c + 240, \"Corn_Balance\"\n",
        "\n",
        "# Sugar beet constraints\n",
        "prob += y_sb1 + y_sb2 == 20*x_sb, \"SugarBeet_Production\" # All produced beets are sold\n",
        "prob += y_sb1 <= 6000, \"SugarBeet_Tier1_Limit\" # Max sales at high price\n",
        "\n",
        "# 5. Solving the Problem\n",
        "prob.solve()\n",
        "\n",
        "\n",
        "print(\"-\" * 30)\n",
        "print(\"Calculated Optimal Yields:\")\n",
        "\n",
        "# Calculate and print yield for each crop\n",
        "print(f\"Wheat Yield: {x_w.varValue * 2.5:.2f} Tons\")\n",
        "print(f\"Corn Yield: {x_c.varValue * 3:.2f} Tons\")\n",
        "print(f\"Sugar Beet Yield: {x_sb.varValue * 20:.2f} Tons\")\n",
        "\n",
        "\n",
        "\n",
        "# 6. Printing the Results\n",
        "print(f\"Solver Status: {LpStatus[prob.status]} \")\n",
        "print(\"-\" * 30)\n",
        "print(\"Optimal Solution (Allocation & Transactions):\")\n",
        "for v in prob.variables():\n",
        "    print(f\"{v.name} = {v.varValue:.2f}\")\n",
        "\n",
        "print(\"-\" * 30)\n",
        "#  Two decimal places are added to the final objective value.\n",
        "print(f\"Maximum Profit = £{value(prob.objective):,.2f}\")\n",
        "\n",
        "\n",
        "\n",
        "# Calculating total cost using the optimal values from the solved problem\n",
        "total_cost = (150 * x_w.varValue) + \\\n",
        "             (230 * x_c.varValue) + \\\n",
        "             (260 * x_sb.varValue) + \\\n",
        "             (238 * b_w.varValue) + \\\n",
        "             (210 * b_c.varValue)\n",
        "\n",
        "# Print the calculated total cost\n",
        "print(\"-\" * 30)\n",
        "print(f\"Total Cost = £{total_cost:,.2f}\")"
      ],
      "metadata": {
        "colab": {
          "base_uri": "https://localhost:8080/"
        },
        "id": "nT7XSaomp2j4",
        "outputId": "afa987e1-13b4-4ad6-ff8b-75b189ecbb52"
      },
      "execution_count": null,
      "outputs": [
        {
          "output_type": "stream",
          "name": "stdout",
          "text": [
            "------------------------------\n",
            "Calculated Optimal Yields:\n",
            "Wheat Yield: 300.00 Tons\n",
            "Corn Yield: 240.00 Tons\n",
            "Sugar Beet Yield: 6000.00 Tons\n",
            "Solver Status: Optimal \n",
            "------------------------------\n",
            "Optimal Solution (Allocation & Transactions):\n",
            "Acres_Corn = 80.00\n",
            "Acres_SugarBeets = 300.00\n",
            "Acres_Wheat = 120.00\n",
            "Purchased_Corn = 0.00\n",
            "Purchased_Wheat = 0.00\n",
            "Sold_Corn = 0.00\n",
            "Sold_SugarBeets_Tier1 = 6000.00\n",
            "Sold_SugarBeets_Tier2 = 0.00\n",
            "Sold_Wheat = 100.00\n",
            "------------------------------\n",
            "Maximum Profit = £118,600.00\n",
            "------------------------------\n",
            "Total Cost = £114,400.00\n"
          ]
        }
      ]
    },
    {
      "cell_type": "markdown",
      "source": [
        "## References\n",
        "\n",
        "###  Feature Selection\n",
        "1.  Srinivasan, S., & Kamal, A. (2021, July 29). *A linear programming approach for optimizing features in ML models*. Meta Engineering. Retrieved from [https://engineering.fb.com/2021/07/29/data-infrastructure/linear-programming/](https://engineering.fb.com/2021/07/29/data-infrastructure/linear-programming/)\n",
        "2.  Guyon, I., & Elisseeff, A. (2003). An introduction to variable and feature selection. *Journal of Machine Learning Research*, 3, 1157-1182.\n",
        "3.  Mera, C. G., & Gámez, J. A. (2021). Feature Selection for Tabular Data via Integer Linear Programming. In *Proceedings of the AAAI Conference on Artificial Intelligence* (Vol. 35, No. 10, pp. 8891-8899).\n",
        "4.  Bertsimas, D., & Dunn, J. (2017). Optimal classification trees. *Machine Learning*, 106(7), 1039-1082.\n",
        "\n",
        "###  The Farmer's Problem\n",
        "1.  Hillier, F. S., & Lieberman, G. J. (2015). *Introduction to Operations Research* (10th ed.). McGraw-Hill.\n",
        "2.  Winston, W. L. (2004). *Operations Research: Applications and Algorithms* (4th ed.). Duxbury Press.\n",
        "3.  Hazell, P. B. R., & Norton, R. D. (1986). *Mathematical Programming for Economic Analysis in Agriculture*. Macmillan."
      ],
      "metadata": {
        "id": "k5SSEKqjniq7"
      }
    }
  ]
}