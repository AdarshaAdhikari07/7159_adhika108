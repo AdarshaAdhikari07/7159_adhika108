{
  "nbformat": 4,
  "nbformat_minor": 0,
  "metadata": {
    "colab": {
      "provenance": []
    },
    "kernelspec": {
      "name": "python3",
      "display_name": "Python 3"
    },
    "language_info": {
      "name": "python"
    }
  },
  "cells": [
    {
      "cell_type": "code",
      "execution_count": null,
      "metadata": {
        "id": "MhQICFv8fBkk",
        "colab": {
          "base_uri": "https://localhost:8080/",
          "height": 314
        },
        "outputId": "54166477-49f5-47ce-ef86-4486ab23ae17"
      },
      "outputs": [
        {
          "output_type": "error",
          "ename": "ModuleNotFoundError",
          "evalue": "No module named 'pulp'",
          "traceback": [
            "\u001b[0;31m---------------------------------------------------------------------------\u001b[0m",
            "\u001b[0;31mModuleNotFoundError\u001b[0m                       Traceback (most recent call last)",
            "\u001b[0;32m<ipython-input-1-2186703057>\u001b[0m in \u001b[0;36m<cell line: 0>\u001b[0;34m()\u001b[0m\n\u001b[0;32m----> 1\u001b[0;31m \u001b[0;32mfrom\u001b[0m \u001b[0mpulp\u001b[0m \u001b[0;32mimport\u001b[0m \u001b[0;34m*\u001b[0m\u001b[0;34m\u001b[0m\u001b[0;34m\u001b[0m\u001b[0m\n\u001b[0m",
            "\u001b[0;31mModuleNotFoundError\u001b[0m: No module named 'pulp'",
            "",
            "\u001b[0;31m---------------------------------------------------------------------------\u001b[0;32m\nNOTE: If your import is failing due to a missing package, you can\nmanually install dependencies using either !pip or !apt.\n\nTo view examples of installing some common dependencies, click the\n\"Open Examples\" button below.\n\u001b[0;31m---------------------------------------------------------------------------\u001b[0m\n"
          ],
          "errorDetails": {
            "actions": [
              {
                "action": "open_url",
                "actionText": "Open Examples",
                "url": "/notebooks/snippets/importing_libraries.ipynb"
              }
            ]
          }
        }
      ],
      "source": [
        "from pulp import *"
      ]
    },
    {
      "cell_type": "code",
      "source": [
        "!pip install PuLP\n",
        "from pulp import *\n"
      ],
      "metadata": {
        "colab": {
          "base_uri": "https://localhost:8080/"
        },
        "id": "UiXXX-MVJ--c",
        "outputId": "3cf023fa-583a-4053-8661-b3659eec7c16"
      },
      "execution_count": null,
      "outputs": [
        {
          "output_type": "stream",
          "name": "stdout",
          "text": [
            "Collecting PuLP\n",
            "  Downloading pulp-3.2.1-py3-none-any.whl.metadata (6.9 kB)\n",
            "Downloading pulp-3.2.1-py3-none-any.whl (16.4 MB)\n",
            "\u001b[2K   \u001b[90m━━━━━━━━━━━━━━━━━━━━━━━━━━━━━━━━━━━━━━━━\u001b[0m \u001b[32m16.4/16.4 MB\u001b[0m \u001b[31m123.2 MB/s\u001b[0m eta \u001b[36m0:00:00\u001b[0m\n",
            "\u001b[?25hInstalling collected packages: PuLP\n",
            "Successfully installed PuLP-3.2.1\n"
          ]
        }
      ]
    },
    {
      "cell_type": "code",
      "source": [
        "from pulp import *\n",
        "\n",
        "# creating the model\n",
        "model = LpProblem(sense=LpMaximize)\n",
        "\n",
        "# variables - how much do we plant?\n",
        "x_p = LpVariable(name=\"potatoes\", lowBound=0)\n",
        "x_c = LpVariable(name=\"carrots\", lowBound=0)\n",
        "\n",
        "# inequalities - don't use more than we have\n",
        "model += x_p       <= 3000  # potatoes\n",
        "model +=       x_c <= 4000  # carrots\n",
        "model += x_p + x_c <= 5000  # fertilizer\n",
        "\n",
        "# objective function - maximize the profit\n",
        "model += x_p * 1.2 + x_c * 1.7\n",
        "\n",
        "# solve (ignoring debug messages)\n",
        "status = model.solve(PULP_CBC_CMD(msg=False))\n",
        "\n",
        "print(\"potatoes:\", x_p.value())\n",
        "print(\"carrots:\", x_c.value())\n",
        "print(\"profit:\", model.objective.value())\n",
        "\n",
        "\n"
      ],
      "metadata": {
        "colab": {
          "base_uri": "https://localhost:8080/"
        },
        "id": "_RYBscNNKIU2",
        "outputId": "1c0565c0-7b02-4515-e787-ef24626d4a6b"
      },
      "execution_count": null,
      "outputs": [
        {
          "output_type": "stream",
          "name": "stdout",
          "text": [
            "potatoes: 1000.0\n",
            "carrots: 4000.0\n",
            "profit: 8000.0\n"
          ]
        }
      ]
    },
    {
      "cell_type": "code",
      "source": [
        "from pulp import *\n",
        "prob = LpProblem(\"The Whiskas Problem\", LpMinimize)\n",
        "x1 = LpVariable(\"ChickenPercent\", 0, None, LpInteger)\n",
        "x2 = LpVariable(\"BeefPercent\", 0)"
      ],
      "metadata": {
        "id": "rOQA9hvcgxgL"
      },
      "execution_count": null,
      "outputs": []
    }
  ]
}