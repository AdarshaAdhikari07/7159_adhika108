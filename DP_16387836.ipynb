{
  "cells": [
    {
      "cell_type": "markdown",
      "metadata": {
        "id": "EpUszbF9j--Y"
      },
      "source": [
        "# Subset-Sum Problem (SSP)"
      ]
    },
    {
      "cell_type": "markdown",
      "metadata": {
        "id": "0O48NVfdj--f"
      },
      "source": [
        "The **Subset Sum problem (SSP)** is defined as follows:\n",
        "\n",
        ">Given a set $S = \\{x_1, x_2, \\ldots, x_n\\}$ of positive integers,\n",
        ">and a positive integers $t$, is there a subset of $S$ whose sum is equal to $t$?\n",
        "\n",
        "This is the **decision version** of SSP as it only asks for a true/false answer."
      ]
    },
    {
      "cell_type": "markdown",
      "metadata": {
        "id": "n_EbtW04j--h"
      },
      "source": [
        "#### Example\n",
        "\n",
        "$S=\\{1,2,3,10\\}$ and $t=13$.\n",
        "\n",
        "A solution is given by $\\{1,2,10\\}$. There is also another solution: $\\{3,10\\}$."
      ]
    },
    {
      "cell_type": "markdown",
      "metadata": {
        "id": "fpMQIguYj--i"
      },
      "source": [
        "## Exhaustive search"
      ]
    },
    {
      "cell_type": "markdown",
      "metadata": {
        "id": "5z97s2_lj--i"
      },
      "source": [
        "An **exhaustive search algorithm** for this problem can written *iteratively* as follows:\n",
        "\n",
        "**INPUT:** A set $S = \\{x_1, x_2, \\ldots, x_n\\}$ of positive integers, and a positive integer $t$.\n",
        "\n",
        "**OUTPUT:** $(c_1,\\ldots,c_n)$ such that $\\sum_{i=1}^n c_i x_i = t$\n",
        "\n",
        "1. **for all** $(c_1,\\ldots,c_n)\\in\\{0,1\\}^n$ **do**\n",
        "2. $\\quad$ **if** $\\sum_{i=1}^n c_i x_i = t$ **then**\n",
        "3. $\\qquad$ **return** $(c_1,\\ldots,c_n)$"
      ]
    },
    {
      "cell_type": "markdown",
      "metadata": {
        "id": "etv2Uslij--j"
      },
      "source": [
        "Now think of the exhaustive search as a binary tree, where at each level we decide whether to include the $i^\\text{th}$ number or not. For example, if $S = \\{a, b, c, d\\}$ then we get:\n",
        "\n",
        "![](img/ssp-binary-tree.jpg)"
      ]
    },
    {
      "cell_type": "markdown",
      "source": [
        "The Subset Sum Problem (SSP) is a classical computational decision problem, and the problem is whether a subset of a set of positive integers sums to a particular target value (Costandin, 2024). In mathematical notation, with set S = {x1, x2,..., xn} and target value t, one wants to know whether there is a subset of S the elements of which sum up to t. This formulation of the problem has only a true or false value, as a result of which it became a decision problem, but not a search or optimisation one.\n",
        "The SSP is also central to the theory of computation since it is one of the basic forms of an NP-complete problem. It is an introduction to more intricate issues in combinatorics and algorithm design (Luo et al. 2024). As an example, given a set of inputs S = {1, 2, 3, 10} and target value t = 13, the function shall evaluate as true because the sums of {1, 2, 10} and {3, 10} are correct. Because of its format, the problem is especially helpful when picturing and comparing brute-force search algorithms and more superior dynamic programming routines."
      ],
      "metadata": {
        "id": "FNboy2cDDgYW"
      }
    },
    {
      "cell_type": "code",
      "source": [
        "def subset_sum_recursive(S, t, index=0):\n",
        "    if t == 0:\n",
        "        return True\n",
        "    if index >= len(S) or t < 0:\n",
        "        return False\n",
        "    # Include current element\n",
        "    include = subset_sum_recursive(S, t - S[index], index + 1)\n",
        "    # Exclude current element\n",
        "    exclude = subset_sum_recursive(S, t, index + 1)\n",
        "    return include or exclude"
      ],
      "metadata": {
        "id": "-ceMGzILpzfh"
      },
      "execution_count": null,
      "outputs": []
    },
    {
      "cell_type": "code",
      "source": [
        "S = [1, 2, 3, 10]\n",
        "t = 13\n",
        "print(subset_sum_recursive(S, t))"
      ],
      "metadata": {
        "colab": {
          "base_uri": "https://localhost:8080/"
        },
        "id": "GISg7Ca7p2jn",
        "outputId": "57c8c7cf-38b1-4bbe-f5ad-698c8f10ebe9"
      },
      "execution_count": null,
      "outputs": [
        {
          "output_type": "stream",
          "name": "stdout",
          "text": [
            "True\n"
          ]
        }
      ]
    },
    {
      "cell_type": "markdown",
      "metadata": {
        "id": "PmYTdShAj--j"
      },
      "source": [
        "Write a recursive version of the exhaustive search algorithm."
      ]
    },
    {
      "cell_type": "markdown",
      "metadata": {
        "id": "TDqW5PJEj--k"
      },
      "source": [
        "The exhaustive search algorithm of the Subset Sum Problem is a recursive algorithm which is based on searching all the possibilities of inclusion and exclusion of components of a set (GeeksforGeeks, 2012). To begin with, the first element, the algorithm examines two options: either to add it to the sum or to bypass it at each step. In the base case, the target is zero, and hence it returns true since a valid subset has been identified. When the target is negative or the limit has been reached unsuccessfully, it yields false. The procedure is applied recursively until a solution is reached in both the include and exclude branches or until all combinations are searched in recursion. This is simple in terms of logic, but this approach is exponential because it considers every possible subset of 2^n items. Although the recursive approach is not practical in the case of large datasets, it illustrates the structure of decisions to be made on the problem and provides an intuitive demonstration of the problem before the application of optimised alternatives such as dynamic programming (Wang et al. 2024).\n"
      ]
    },
    {
      "cell_type": "markdown",
      "metadata": {
        "id": "S91hGyWmj--k"
      },
      "source": [
        "## Dynamic Programming."
      ]
    },
    {
      "cell_type": "markdown",
      "metadata": {
        "id": "2ATSIQ4zj--l"
      },
      "source": [
        "The above iterative pseudocode considers the subsets of $S$ as the search space.\n",
        "Another way to search for solutions is to iteratively build the answer for smaller target values $t' = 0, 1, 2, 3, \\ldots$ until we reach $t$.\n",
        "\n",
        "If we have built all the possible sums from the subset $\\{x_1,\\ldots,x_k\\}$, what other sums become possible if we add $x_{k+1}$ to the set?"
      ]
    },
    {
      "cell_type": "markdown",
      "metadata": {
        "id": "6pTvQdNsj--l"
      },
      "source": [
        "Dynamic programming provides a more optimal approach compared to SSP, in that it divides a problem into overlapping subproblems and memorises the intermediate results of computations (simplilearn, 2025). It follows the insight that, whenever a sum s can be achieved using the first k elements, then s + x_(k+1) can as well be achieved after incorporating the next element. The algorithm does not even calculate more than once by solving the problem in a step-by-step approach progressively, with smaller targets leading to larger targets.\n",
        "Dynamic programming is usually applied in two forms: top-down (memoization) and bottom-up (tabulation). Both methods make a great difference in difficulty in time by making it O(n * t), where n is the size of the set, and t is the degree of the target. This qualifies them to manipulate moderately huge amounts of data that would otherwise be impossible with brute force applications.\n",
        "Dynamic programming is applied in the case of SSP, in the sense that each sum from S equals 0 to t is considered as a set of them that can be formed by taking subsets of S. The results computed are then stored and reused, which ensures that every subproblem is not solved more than once. It results in a significant gain in performance and scalability optimisation.\n"
      ]
    },
    {
      "cell_type": "markdown",
      "metadata": {
        "id": "r3GCd01Xj--l"
      },
      "source": [
        "The bottom-up pattern of the Subset Sum Problem is to organise the determination through a two-dimensional boolean table, whether any target sum may be accomplished by applying subsets of a particular set. The cell in the table with indexes i and j is denoted as dp[i][j] and holds the answer to the question of the possibility of forming j using the first i elements of the set. First, the table is initialised with false values, except the first column, which is set to be true because a sum of zero can always be obtained by choosing no items.\n",
        "The table is row by row, subsequently filled. In every element in the set, the algorithm traverses all the potential target sum values 1 to t. In case the current element is not greater than the target sum, the assignment to the value of dp[i][j] would be true when the sum can be reached without the current element (dp[i-1][j]) or with the current element (dp[i-1][j - S[i-1]]). When the element in consideration is too big, then the algorithm transfers the value of the preceding row.\n",
        "Once this process is complete, at the value indicated in dp[n][n], there is an answer to the question of whether or not the full set allows a target sum. The approach is effective, and it does not require recursion since the solution to the problem is constructed based on smaller ones.\n"
      ]
    },
    {
      "cell_type": "markdown",
      "metadata": {
        "id": "26KHW6vFj--l"
      },
      "source": [
        "# Implementation"
      ]
    },
    {
      "cell_type": "code",
      "execution_count": null,
      "metadata": {
        "id": "VHudssSFj--m"
      },
      "outputs": [],
      "source": [
        "from random import randint, sample"
      ]
    },
    {
      "cell_type": "code",
      "execution_count": null,
      "metadata": {
        "id": "O3cB2y5ij--n"
      },
      "outputs": [],
      "source": [
        "def get_S_t(n, MAX_X = 100):\n",
        "    S = [randint(1,MAX_X) for i in range(n)]\n",
        "    t = sum(sample(S,randint(1,n)))\n",
        "    return S,t"
      ]
    },
    {
      "cell_type": "code",
      "execution_count": null,
      "metadata": {
        "colab": {
          "base_uri": "https://localhost:8080/"
        },
        "id": "gibt8WGlj--o",
        "outputId": "4df067fb-5a41-4461-bf42-d4b7dd1b20a0"
      },
      "outputs": [
        {
          "output_type": "execute_result",
          "data": {
            "text/plain": [
              "([65, 26, 53, 23, 69, 44, 69, 74, 69, 9], 492)"
            ]
          },
          "metadata": {},
          "execution_count": 5
        }
      ],
      "source": [
        "get_S_t(10)"
      ]
    },
    {
      "cell_type": "markdown",
      "metadata": {
        "id": "u6cKhslPj--q"
      },
      "source": [
        "### 1) Memoization (Top-down approach)"
      ]
    },
    {
      "cell_type": "code",
      "execution_count": null,
      "metadata": {
        "ExecuteTime": {
          "end_time": "2022-10-25T11:38:11.266563Z",
          "start_time": "2022-10-25T11:38:11.256547Z"
        },
        "id": "gRojdpJ0j--r"
      },
      "outputs": [],
      "source": [
        "# Implementation\n",
        "def subset_sum_memo(S, t):\n",
        "    memo = {}\n",
        "\n",
        "    def dp(i, current_sum):\n",
        "        if current_sum == t:\n",
        "            return True\n",
        "        if i == len(S) or current_sum > t:\n",
        "            return False\n",
        "        if (i, current_sum) in memo:\n",
        "            return memo[(i, current_sum)]\n",
        "\n",
        "        # Try including or excluding S[i]\n",
        "        include = dp(i + 1, current_sum + S[i])\n",
        "        exclude = dp(i + 1, current_sum)\n",
        "\n",
        "        memo[(i, current_sum)] = include or exclude\n",
        "        return memo[(i, current_sum)]\n",
        "\n",
        "    return dp(0, 0)"
      ]
    },
    {
      "cell_type": "code",
      "execution_count": null,
      "metadata": {
        "ExecuteTime": {
          "end_time": "2022-10-25T11:38:11.281559Z",
          "start_time": "2022-10-25T11:38:11.271567Z"
        },
        "colab": {
          "base_uri": "https://localhost:8080/"
        },
        "id": "RMi8p2CEj--s",
        "outputId": "f35291c8-25d6-4578-def0-4c69b9afbac9"
      },
      "outputs": [
        {
          "output_type": "stream",
          "name": "stdout",
          "text": [
            "S: [21, 30, 69, 26, 8, 83, 25, 77, 46, 49], t: 79\n",
            "Memoization: True\n"
          ]
        }
      ],
      "source": [
        "# Test examples\n",
        "S, t = get_S_t(10)\n",
        "print(f\"S: {S}, t: {t}\")\n",
        "print(\"Memoization:\", subset_sum_memo(S, t))"
      ]
    },
    {
      "cell_type": "markdown",
      "source": [
        "The recursive version of the dynamic programming algorithm (top-down) also incorporates a dictionary or hash map to save previously calculated results. This algorithm begins by going down to the root and recursively looking at include and exclude, but this time it records (i, current_sum) state so that it does not recompute it later. The process executes a check on whether the current sum is equal to the target, greater than it or the end of the set is achieved. In case the solution to the subproblem is obtained, the memoization dictionary is queried to obtain this value. Otherwise, the function keeps performing both options: add or leave out the current element in the sum.\n",
        "The following set S = [21, 30, 69, 26, 8, 83, 25, 77, 46, 49] was generated randomly and a target t = 79. The expected behaviour of the approach was verified by the fact that the function used on the game variable returned true. Memoization allows for eliminating many unnecessary recursive calls and enhances the performance compared to the simplest brute-force implementation.\n"
      ],
      "metadata": {
        "id": "ODusOx_sIttQ"
      }
    },
    {
      "cell_type": "markdown",
      "metadata": {
        "id": "43M-Z9Mvj--s"
      },
      "source": [
        "### 2) Bottom-up approach"
      ]
    },
    {
      "cell_type": "code",
      "execution_count": null,
      "metadata": {
        "ExecuteTime": {
          "end_time": "2022-10-25T11:38:11.295714Z",
          "start_time": "2022-10-25T11:38:11.286560Z"
        },
        "id": "h23qqn5ej--t"
      },
      "outputs": [],
      "source": [
        "# Implementation\n",
        "def subset_sum_bottom_up(S, t):\n",
        "    n = len(S)\n",
        "    dp = [[False] * (t + 1) for _ in range(n + 1)]\n",
        "    for i in range(n + 1):\n",
        "        dp[i][0] = True  # sum 0 is always possible\n",
        "\n",
        "    for i in range(1, n + 1):\n",
        "        for j in range(1, t + 1):\n",
        "            if S[i-1] <= j:\n",
        "                dp[i][j] = dp[i-1][j] or dp[i-1][j - S[i-1]]\n",
        "            else:\n",
        "                dp[i][j] = dp[i-1][j]\n",
        "\n",
        "    return dp[n][t]"
      ]
    },
    {
      "cell_type": "code",
      "execution_count": null,
      "metadata": {
        "ExecuteTime": {
          "end_time": "2022-10-25T11:38:11.311861Z",
          "start_time": "2022-10-25T11:38:11.295714Z"
        },
        "colab": {
          "base_uri": "https://localhost:8080/"
        },
        "id": "5A2xchdZj--t",
        "outputId": "60f529df-e663-4219-da18-04d885a884bd"
      },
      "outputs": [
        {
          "output_type": "stream",
          "name": "stdout",
          "text": [
            "S: [54, 35, 55, 74, 74, 34, 69, 35, 88, 100], t: 69\n",
            "Bottom-Up: True\n"
          ]
        }
      ],
      "source": [
        "# Test examples\n",
        "S, t = get_S_t(10)\n",
        "print(f\"S: {S}, t: {t}\")\n",
        "print(\"Bottom-Up:\", subset_sum_bottom_up(S, t))"
      ]
    },
    {
      "cell_type": "markdown",
      "source": [
        "The bottom-up method builds a two-dimensional boolean table dp, with dp[i][j] equal to true when a sum j can be found consisting of the first i set elements S. The table is progressively filled as it first uses the base case that a sum of 0 can always be made. On each element of S and each possible sum between 1 and t, the algorithm tests whether that sum can be obtained using or not the element under consideration.\n",
        "In case S[i-1] is not greater than j, then dp[i][j] = dp[i-1][j] or dp[i-1][j - S[i-1]]. Otherwise, dp[i][j] = dp[i-1][j], i.e. the value of a current element is too high to be contained. After filling the table, one will find the answer at dp[n][t], which shows whether the target sum is possible to accomplish.\n",
        "This is a very systematic approach and not based on recursion, so it becomes easy to debug and hence easy to understand. On one test, with the input value S = [54, 35, 55, 74, 74, 34, 69, 35, 88, 100] and t = 69, the algorithm properly found that a valid subset existed, and the procedure returned true. The main strength of the bottom-up approach is the fact that it ensures the complexity of running it to be a polynomial, and it also gives a clear way to the solution.\n"
      ],
      "metadata": {
        "id": "hO1y2OtsIu93"
      }
    },
    {
      "cell_type": "markdown",
      "metadata": {
        "id": "D45gwyVlj--u"
      },
      "source": [
        "# Conclusion\n",
        "\n"
      ]
    },
    {
      "cell_type": "markdown",
      "source": [
        "The Subset Sum Problem is an interesting exploration of the influence that the algorithmic methods have on the computational performance. The exhaustive search algorithm is very easy to use, but soon it becomes infeasible because the number of subsets increases exponentially. Dynamic programming, in contrast, offers a scalable and efficient solution to the problem either through memoisation or bottom-up table filling.\n",
        "An advantage of the memoization technique is that it cuts down on the number of times a given function is called by storing intermediate results. The impression lends itself especially when used together with recursion. The bottom-up approach, in its turn, suggests a completely iterative solution, which is easy to visualise and very effective to implement. Each of them is much faster than the brute-force solution, and both show the expediency of using dynamic programming.\n",
        "All in all, it is the dynamic programming strategy that can be deemed as the most efficient way of tackling the Subset Sum Problem reliably and computationally efficiently. It makes a theoretically intractable problem manageable and solvable (with no certainty but with reasonable input sizes).\n"
      ],
      "metadata": {
        "id": "BW58mUP4Ixkw"
      }
    },
    {
      "cell_type": "markdown",
      "metadata": {
        "id": "WY_ZSVaDj--u"
      },
      "source": [
        "# List of references\n"
      ]
    },
    {
      "cell_type": "markdown",
      "source": [
        "Costandin, M., 2024. On a Geometric Interpretation Of the Subset Sum Problem. arXiv preprint arXiv:2410.19024.\n",
        "\n",
        "Luo, L., Li, C. and Li, Q., 2024. Deterministic Algorithms to Solve the $(n, k) $-Complete Hidden Subset Sum Problem. arXiv preprint arXiv:2412.04967.\n",
        "\n",
        "Wang, H., Xin, H., Liu, Z., Li, W., Huang, Y., Lu, J., Yang, Z., Tang, J., Yin, J., Li, Z. and Liang, X., 2024. Proving theorems recursively. Advances in Neural Information Processing Systems, 37, pp.86720-86748.\n",
        "\n",
        "GeeksforGeeks (2012). Subset Sum Problem. [online] GeeksforGeeks. Available at: https://www.geeksforgeeks.org/dsa/subset-sum-problem-dp-25/.\n",
        "\n",
        "simplilearn (2025). What is Dynamic Programming? Top-down vs Bottom-up Approach | Simplilearn. [online] Simplilearn.com. Available at: https://www.simplilearn.com/tutorials/data-structure-tutorial/what-is-dynamic-programming.\n"
      ],
      "metadata": {
        "id": "Ge4wa_PQIzwH"
      }
    }
  ],
  "metadata": {
    "kernelspec": {
      "display_name": "Python 3 (ipykernel)",
      "language": "python",
      "name": "python3"
    },
    "language_info": {
      "codemirror_mode": {
        "name": "ipython",
        "version": 3
      },
      "file_extension": ".py",
      "mimetype": "text/x-python",
      "name": "python",
      "nbconvert_exporter": "python",
      "pygments_lexer": "ipython3",
      "version": "3.11.1"
    },
    "toc": {
      "base_numbering": 1,
      "nav_menu": {},
      "number_sections": false,
      "sideBar": true,
      "skip_h1_title": false,
      "title_cell": "Table of Contents",
      "title_sidebar": "Contents",
      "toc_cell": false,
      "toc_position": {},
      "toc_section_display": true,
      "toc_window_display": false
    },
    "vscode": {
      "interpreter": {
        "hash": "6d1e45cadc3597bb8b6600530fbdf8c3eefe919a24ef54d9d32b318795b772e0"
      }
    },
    "colab": {
      "provenance": []
    }
  },
  "nbformat": 4,
  "nbformat_minor": 0
}